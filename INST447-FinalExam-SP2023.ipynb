{
 "cells": [
  {
   "cell_type": "markdown",
   "metadata": {},
   "source": [
    "# Final Exam\n",
    "\n",
    "Name: Sang Hwa Lee \n",
    "Class: INST 447\n",
    "\n",
    "Amount of time dedicated to this exam: 5days 17hours\n"
   ]
  },
  {
   "cell_type": "markdown",
   "metadata": {},
   "source": [
    "## DUE DATE \n",
    "\n",
    "Submit through Canvas by: **Tuesday, May 16 at 3:30 PM**\n",
    "\n",
    "Late submissions will not be accepted after **the assignment closes in Canvas at May 16 at 11:59pm**.\n",
    "\n"
   ]
  },
  {
   "cell_type": "markdown",
   "metadata": {},
   "source": [
    "### Ground rules\n",
    "\n",
    "You may use any resources available to you with the exception of other sentient entities. This means that you may use your notes, resources from the Internet, books, etc. This manifests with the following absolute requirements: 1) the code must be yours and 2) though you may use Internet resources, you may not ask questions on forums, stackoverflow, twitter, youtube, groupme, etc. Evidence of such will be considered a violation of the [honor code](https://tltc.umd.edu/plagiarism-and-honor-code) and handled accordingly.\n",
    "\n",
    "Despite any evidence to the contrary, Mr. Heidenblad does qualify as a sentient entity. However, you may ask him clarifying questions, but he may not be able answer.\n",
    "\n",
    "I do not expect you to go into seclusion, so you may talk to other sentient entities about topics unrelated to the exam. \n",
    "\n",
    "### Instructions\n",
    "This series of questions guides you through the ingestion and preparation of data for analysis.\n",
    "\n",
    "Submit the ipynb and exported html files, like you have been for labs. **Before submitting the file use the on 'Restart and Run All' command to make sure that there are no errors in your code.**\n",
    "\n",
    "### Partial Credit\n",
    "To recieve partial credit there must be evidence that you tried to run your code. That means that I should see the error message. To ensure that your recieve the most postible points, describe what you are attempting to do and why you think your code is producing an error.\n",
    "\n",
    "### Libraries\n",
    "Part of completing the task set out for you is identifying the appropriate library for the task. Import libraries as neccessary and appropriate. Do not import any libraries that you do not use. **Points will be deducted for every library that is not used.**\n",
    "\n",
    "### Data\n",
    "All required data to complete this exam are provided. Files references are stored within the `data` folder. You should only reference  files using **relative paths**. **Points will be deducted** if I have to change paths in order to make your code to work.\n",
    "\n",
    "### Points Value\n",
    "There are 25 questions. Each question is worth 2 points for a total of 50 points."
   ]
  },
  {
   "cell_type": "markdown",
   "metadata": {},
   "source": [
    "### Honor Pledge\n",
    "\n",
    "The University has a nationally recognized Honor Code, administered by the Student Honor Council. The Student Honor Council proposed and the University Senate approved an Honor Pledge. The University of Maryland Honor Pledge reads:\n",
    "\n",
    "> *I pledge on my honor that I have not given or received any unauthorized assistance on this assignment/examination.*\n",
    "\n",
    "Please type the honor pledge into the space below. Students who fail to write and sign the Pledge will be asked to confer with the instructor.\n"
   ]
  },
  {
   "cell_type": "markdown",
   "metadata": {},
   "source": [
    "## Section 1: Working with Pandas\n",
    "For this section, we will use the files in the folder named `gapminder` that is inside the `data` folder. These files contain the *per capita* GDP for countries within various regions of the world. The file name indicates which region the data belongs to.\n",
    "\n",
    "**Within each section the questions guide you to a final analysis. You should not re-import the data unless intructed.**"
   ]
  },
  {
   "cell_type": "markdown",
   "metadata": {},
   "source": [
    "### Q1) Import the files.\n",
    "Import the files `gapminder_gdp_americas.csv` and `gapminder_gdp_europe.csv` and save them into dataframes named `americas_df` and `europe_df` respectively. In both dataframes, make *country* the index. Make sure that you use **relative** paths."
   ]
  },
  {
   "cell_type": "code",
   "execution_count": 12,
   "metadata": {},
   "outputs": [],
   "source": [
    "import pandas as pd\n",
    "\n",
    "# Load CSV files, set 'country' as index\n",
    "americas_df = pd.read_csv('gapminder_gdp_americas.csv', index_col='country')\n",
    "europe_df = pd.read_csv('gapminder_gdp_europe.csv', index_col='country')"
   ]
  },
  {
   "cell_type": "markdown",
   "metadata": {},
   "source": [
    "### Q2) Did they import corectly?\n",
    "Verify that your data types are correct and that you have a dataframe that you can work with."
   ]
  },
  {
   "cell_type": "code",
   "execution_count": 13,
   "metadata": {},
   "outputs": [
    {
     "name": "stdout",
     "output_type": "stream",
     "text": [
      "          continent  gdpPercap_1952  gdpPercap_1957  gdpPercap_1962  \\\n",
      "country                                                               \n",
      "Argentina  Americas     5911.315053     6856.856212     7133.166023   \n",
      "Bolivia    Americas     2677.326347     2127.686326     2180.972546   \n",
      "Brazil     Americas     2108.944355     2487.365989     3336.585802   \n",
      "Canada     Americas    11367.161120    12489.950060    13462.485550   \n",
      "Chile      Americas     3939.978789     4315.622723     4519.094331   \n",
      "\n",
      "           gdpPercap_1967  gdpPercap_1972  gdpPercap_1977  gdpPercap_1982  \\\n",
      "country                                                                     \n",
      "Argentina     8052.953021     9443.038526    10079.026740     8997.897412   \n",
      "Bolivia       2586.886053     2980.331339     3548.097832     3156.510452   \n",
      "Brazil        3429.864357     4985.711467     6660.118654     7030.835878   \n",
      "Canada       16076.588030    18970.570860    22090.883060    22898.792140   \n",
      "Chile         5106.654313     5494.024437     4756.763836     5095.665738   \n",
      "\n",
      "           gdpPercap_1987  gdpPercap_1992  gdpPercap_1997  gdpPercap_2002  \\\n",
      "country                                                                     \n",
      "Argentina     9139.671389     9308.418710    10967.281950     8797.640716   \n",
      "Bolivia       2753.691490     2961.699694     3326.143191     3413.262690   \n",
      "Brazil        7807.095818     6950.283021     7957.980824     8131.212843   \n",
      "Canada       26626.515030    26342.884260    28954.925890    33328.965070   \n",
      "Chile         5547.063754     7596.125964    10118.053180    10778.783850   \n",
      "\n",
      "           gdpPercap_2007  \n",
      "country                    \n",
      "Argentina    12779.379640  \n",
      "Bolivia       3822.137084  \n",
      "Brazil        9065.800825  \n",
      "Canada       36319.235010  \n",
      "Chile        13171.638850  \n",
      "                        gdpPercap_1952  gdpPercap_1957  gdpPercap_1962  \\\n",
      "country                                                                  \n",
      "Albania                    1601.056136     1942.284244     2312.888958   \n",
      "Austria                    6137.076492     8842.598030    10750.721110   \n",
      "Belgium                    8343.105127     9714.960623    10991.206760   \n",
      "Bosnia and Herzegovina      973.533195     1353.989176     1709.683679   \n",
      "Bulgaria                   2444.286648     3008.670727     4254.337839   \n",
      "\n",
      "                        gdpPercap_1967  gdpPercap_1972  gdpPercap_1977  \\\n",
      "country                                                                  \n",
      "Albania                    2760.196931     3313.422188     3533.003910   \n",
      "Austria                   12834.602400    16661.625600    19749.422300   \n",
      "Belgium                   13149.041190    16672.143560    19117.974480   \n",
      "Bosnia and Herzegovina     2172.352423     2860.169750     3528.481305   \n",
      "Bulgaria                   5577.002800     6597.494398     7612.240438   \n",
      "\n",
      "                        gdpPercap_1982  gdpPercap_1987  gdpPercap_1992  \\\n",
      "country                                                                  \n",
      "Albania                    3630.880722     3738.932735     2497.437901   \n",
      "Austria                   21597.083620    23687.826070    27042.018680   \n",
      "Belgium                   20979.845890    22525.563080    25575.570690   \n",
      "Bosnia and Herzegovina     4126.613157     4314.114757     2546.781445   \n",
      "Bulgaria                   8224.191647     8239.854824     6302.623438   \n",
      "\n",
      "                        gdpPercap_1997  gdpPercap_2002  gdpPercap_2007  \n",
      "country                                                                 \n",
      "Albania                    3193.054604     4604.211737     5937.029526  \n",
      "Austria                   29095.920660    32417.607690    36126.492700  \n",
      "Belgium                   27561.196630    30485.883750    33692.605080  \n",
      "Bosnia and Herzegovina     4766.355904     6018.975239     7446.298803  \n",
      "Bulgaria                   5970.388760     7696.777725    10680.792820  \n",
      "<class 'pandas.core.frame.DataFrame'>\n",
      "Index: 25 entries, Argentina to Venezuela\n",
      "Data columns (total 13 columns):\n",
      " #   Column          Non-Null Count  Dtype  \n",
      "---  ------          --------------  -----  \n",
      " 0   continent       25 non-null     object \n",
      " 1   gdpPercap_1952  25 non-null     float64\n",
      " 2   gdpPercap_1957  25 non-null     float64\n",
      " 3   gdpPercap_1962  25 non-null     float64\n",
      " 4   gdpPercap_1967  25 non-null     float64\n",
      " 5   gdpPercap_1972  25 non-null     float64\n",
      " 6   gdpPercap_1977  25 non-null     float64\n",
      " 7   gdpPercap_1982  25 non-null     float64\n",
      " 8   gdpPercap_1987  25 non-null     float64\n",
      " 9   gdpPercap_1992  25 non-null     float64\n",
      " 10  gdpPercap_1997  25 non-null     float64\n",
      " 11  gdpPercap_2002  25 non-null     float64\n",
      " 12  gdpPercap_2007  25 non-null     float64\n",
      "dtypes: float64(12), object(1)\n",
      "memory usage: 2.7+ KB\n",
      "None\n",
      "<class 'pandas.core.frame.DataFrame'>\n",
      "Index: 30 entries, Albania to United Kingdom\n",
      "Data columns (total 12 columns):\n",
      " #   Column          Non-Null Count  Dtype  \n",
      "---  ------          --------------  -----  \n",
      " 0   gdpPercap_1952  30 non-null     float64\n",
      " 1   gdpPercap_1957  30 non-null     float64\n",
      " 2   gdpPercap_1962  30 non-null     float64\n",
      " 3   gdpPercap_1967  30 non-null     float64\n",
      " 4   gdpPercap_1972  30 non-null     float64\n",
      " 5   gdpPercap_1977  30 non-null     float64\n",
      " 6   gdpPercap_1982  30 non-null     float64\n",
      " 7   gdpPercap_1987  30 non-null     float64\n",
      " 8   gdpPercap_1992  30 non-null     float64\n",
      " 9   gdpPercap_1997  30 non-null     float64\n",
      " 10  gdpPercap_2002  30 non-null     float64\n",
      " 11  gdpPercap_2007  30 non-null     float64\n",
      "dtypes: float64(12)\n",
      "memory usage: 3.0+ KB\n",
      "None\n"
     ]
    }
   ],
   "source": [
    "# Top 5 lines output\n",
    "print(americas_df.head())\n",
    "print(europe_df.head())\n",
    "\n",
    "# Check the data frame shape and data type\n",
    "print(americas_df.info())\n",
    "print(europe_df.info())"
   ]
  },
  {
   "cell_type": "markdown",
   "metadata": {},
   "source": [
    "### Q3) Drop a column\n",
    "Drop the column *continent* from the dataframe containing the data for the American continent."
   ]
  },
  {
   "cell_type": "code",
   "execution_count": 14,
   "metadata": {},
   "outputs": [],
   "source": [
    "# Remove the 'continent' column.\n",
    "americas_df = americas_df.drop(\"continent\", axis=1)"
   ]
  },
  {
   "cell_type": "code",
   "execution_count": 16,
   "metadata": {},
   "outputs": [
    {
     "name": "stdout",
     "output_type": "stream",
     "text": [
      "           gdpPercap_1952  gdpPercap_1957  gdpPercap_1962  gdpPercap_1967  \\\n",
      "country                                                                     \n",
      "Argentina     5911.315053     6856.856212     7133.166023     8052.953021   \n",
      "Bolivia       2677.326347     2127.686326     2180.972546     2586.886053   \n",
      "\n",
      "           gdpPercap_1972  gdpPercap_1977  gdpPercap_1982  gdpPercap_1987  \\\n",
      "country                                                                     \n",
      "Argentina     9443.038526    10079.026740     8997.897412     9139.671389   \n",
      "Bolivia       2980.331339     3548.097832     3156.510452     2753.691490   \n",
      "\n",
      "           gdpPercap_1992  gdpPercap_1997  gdpPercap_2002  gdpPercap_2007  \n",
      "country                                                                    \n",
      "Argentina     9308.418710    10967.281950     8797.640716    12779.379640  \n",
      "Bolivia       2961.699694     3326.143191     3413.262690     3822.137084  \n"
     ]
    }
   ],
   "source": [
    "# Check\n",
    "print(americas_df.head(2))"
   ]
  },
  {
   "cell_type": "markdown",
   "metadata": {},
   "source": [
    "#####  Can see that the column related to the continent has been dropped."
   ]
  },
  {
   "cell_type": "markdown",
   "metadata": {},
   "source": [
    "### Q4) Slicing Part 1\n",
    "Using the European continent data, create and display a Series that contains the *per capita* GDP, for all years provided, only for the country **Sweden**\n"
   ]
  },
  {
   "cell_type": "code",
   "execution_count": 17,
   "metadata": {},
   "outputs": [
    {
     "name": "stdout",
     "output_type": "stream",
     "text": [
      "gdpPercap_1952     8527.844662\n",
      "gdpPercap_1957     9911.878226\n",
      "gdpPercap_1962    12329.441920\n",
      "gdpPercap_1967    15258.296970\n",
      "gdpPercap_1972    17832.024640\n",
      "gdpPercap_1977    18855.725210\n",
      "gdpPercap_1982    20667.381250\n",
      "gdpPercap_1987    23586.929270\n",
      "gdpPercap_1992    23880.016830\n",
      "gdpPercap_1997    25266.594990\n",
      "gdpPercap_2002    29341.630930\n",
      "gdpPercap_2007    33859.748350\n",
      "Name: Sweden, dtype: float64\n"
     ]
    }
   ],
   "source": [
    "# Select row 'Sweden'\n",
    "sweden_gdp = europe_df.loc['Sweden']\n",
    "\n",
    "print(sweden_gdp)"
   ]
  },
  {
   "cell_type": "markdown",
   "metadata": {},
   "source": [
    "### Q5) Slicing Part 2\n",
    "Using the American content data, create and display a Series that contains the GDP per capita, for all countries, only for the year 1992."
   ]
  },
  {
   "cell_type": "code",
   "execution_count": 18,
   "metadata": {},
   "outputs": [
    {
     "name": "stdout",
     "output_type": "stream",
     "text": [
      "country\n",
      "Argentina               9308.418710\n",
      "Bolivia                 2961.699694\n",
      "Brazil                  6950.283021\n",
      "Canada                 26342.884260\n",
      "Chile                   7596.125964\n",
      "Colombia                5444.648617\n",
      "Costa Rica              6160.416317\n",
      "Cuba                    5592.843963\n",
      "Dominican Republic      3044.214214\n",
      "Ecuador                 7103.702595\n",
      "El Salvador             4444.231700\n",
      "Guatemala               4439.450840\n",
      "Haiti                   1456.309517\n",
      "Honduras                3081.694603\n",
      "Jamaica                 7404.923685\n",
      "Mexico                  9472.384295\n",
      "Nicaragua               2170.151724\n",
      "Panama                  6618.743050\n",
      "Paraguay                4196.411078\n",
      "Peru                    4446.380924\n",
      "Puerto Rico            14641.587110\n",
      "Trinidad and Tobago     7370.990932\n",
      "United States          32003.932240\n",
      "Uruguay                 8137.004775\n",
      "Venezuela              10733.926310\n",
      "Name: gdpPercap_1992, dtype: float64\n"
     ]
    }
   ],
   "source": [
    "# Select column of'gdpPercap_1992'\n",
    "gdp_1992 = americas_df['gdpPercap_1992']\n",
    "\n",
    "print(gdp_1992)"
   ]
  },
  {
   "cell_type": "markdown",
   "metadata": {},
   "source": [
    "### Q6) Slicing Part 3\n",
    "Create and display a DataFrame using the european continent data that contains data only for Norway, Sweden, Denmark, and Finland, and only for the years after in the 2000's."
   ]
  },
  {
   "cell_type": "code",
   "execution_count": 19,
   "metadata": {},
   "outputs": [
    {
     "name": "stdout",
     "output_type": "stream",
     "text": [
      "         gdpPercap_2002  gdpPercap_2007\n",
      "country                                \n",
      "Norway      44683.97525     49357.19017\n",
      "Sweden      29341.63093     33859.74835\n",
      "Denmark     32166.50006     35278.41874\n",
      "Finland     28204.59057     33207.08440\n"
     ]
    }
   ],
   "source": [
    "# select a specific country\n",
    "countries = ['Norway', 'Sweden', 'Denmark', 'Finland']\n",
    "\n",
    "# select year after 2000\n",
    "years = [col for col in europe_df.columns if int(col.split('_')[1]) >= 2000]\n",
    "\n",
    "# Create a dataframe for selected countries and years\n",
    "selected_df = europe_df.loc[countries, years]\n",
    "\n",
    "print(selected_df)"
   ]
  },
  {
   "cell_type": "markdown",
   "metadata": {},
   "source": [
    "### Q7) Calculating Values\n",
    "Create a new column named `gdpPercap_growth` in the dataframes for european and american regions. In this column save the 2007 GDP per capita for each country divided by GDP per capita for that country in 1952 with only 2 decimal places of precision.\n",
    "\n",
    "**Note:** Looping through rows in dataframes will result in a point penalty."
   ]
  },
  {
   "cell_type": "code",
   "execution_count": 20,
   "metadata": {},
   "outputs": [
    {
     "name": "stdout",
     "output_type": "stream",
     "text": [
      "           gdpPercap_1952  gdpPercap_1957  gdpPercap_1962  gdpPercap_1967  \\\n",
      "country                                                                     \n",
      "Argentina     5911.315053     6856.856212     7133.166023     8052.953021   \n",
      "Bolivia       2677.326347     2127.686326     2180.972546     2586.886053   \n",
      "Brazil        2108.944355     2487.365989     3336.585802     3429.864357   \n",
      "Canada       11367.161120    12489.950060    13462.485550    16076.588030   \n",
      "Chile         3939.978789     4315.622723     4519.094331     5106.654313   \n",
      "\n",
      "           gdpPercap_1972  gdpPercap_1977  gdpPercap_1982  gdpPercap_1987  \\\n",
      "country                                                                     \n",
      "Argentina     9443.038526    10079.026740     8997.897412     9139.671389   \n",
      "Bolivia       2980.331339     3548.097832     3156.510452     2753.691490   \n",
      "Brazil        4985.711467     6660.118654     7030.835878     7807.095818   \n",
      "Canada       18970.570860    22090.883060    22898.792140    26626.515030   \n",
      "Chile         5494.024437     4756.763836     5095.665738     5547.063754   \n",
      "\n",
      "           gdpPercap_1992  gdpPercap_1997  gdpPercap_2002  gdpPercap_2007  \\\n",
      "country                                                                     \n",
      "Argentina     9308.418710    10967.281950     8797.640716    12779.379640   \n",
      "Bolivia       2961.699694     3326.143191     3413.262690     3822.137084   \n",
      "Brazil        6950.283021     7957.980824     8131.212843     9065.800825   \n",
      "Canada       26342.884260    28954.925890    33328.965070    36319.235010   \n",
      "Chile         7596.125964    10118.053180    10778.783850    13171.638850   \n",
      "\n",
      "           gdpPercap_growth  \n",
      "country                      \n",
      "Argentina              2.16  \n",
      "Bolivia                1.43  \n",
      "Brazil                 4.30  \n",
      "Canada                 3.20  \n",
      "Chile                  3.34  \n",
      "                        gdpPercap_1952  gdpPercap_1957  gdpPercap_1962  \\\n",
      "country                                                                  \n",
      "Albania                    1601.056136     1942.284244     2312.888958   \n",
      "Austria                    6137.076492     8842.598030    10750.721110   \n",
      "Belgium                    8343.105127     9714.960623    10991.206760   \n",
      "Bosnia and Herzegovina      973.533195     1353.989176     1709.683679   \n",
      "Bulgaria                   2444.286648     3008.670727     4254.337839   \n",
      "\n",
      "                        gdpPercap_1967  gdpPercap_1972  gdpPercap_1977  \\\n",
      "country                                                                  \n",
      "Albania                    2760.196931     3313.422188     3533.003910   \n",
      "Austria                   12834.602400    16661.625600    19749.422300   \n",
      "Belgium                   13149.041190    16672.143560    19117.974480   \n",
      "Bosnia and Herzegovina     2172.352423     2860.169750     3528.481305   \n",
      "Bulgaria                   5577.002800     6597.494398     7612.240438   \n",
      "\n",
      "                        gdpPercap_1982  gdpPercap_1987  gdpPercap_1992  \\\n",
      "country                                                                  \n",
      "Albania                    3630.880722     3738.932735     2497.437901   \n",
      "Austria                   21597.083620    23687.826070    27042.018680   \n",
      "Belgium                   20979.845890    22525.563080    25575.570690   \n",
      "Bosnia and Herzegovina     4126.613157     4314.114757     2546.781445   \n",
      "Bulgaria                   8224.191647     8239.854824     6302.623438   \n",
      "\n",
      "                        gdpPercap_1997  gdpPercap_2002  gdpPercap_2007  \\\n",
      "country                                                                  \n",
      "Albania                    3193.054604     4604.211737     5937.029526   \n",
      "Austria                   29095.920660    32417.607690    36126.492700   \n",
      "Belgium                   27561.196630    30485.883750    33692.605080   \n",
      "Bosnia and Herzegovina     4766.355904     6018.975239     7446.298803   \n",
      "Bulgaria                   5970.388760     7696.777725    10680.792820   \n",
      "\n",
      "                        gdpPercap_growth  \n",
      "country                                   \n",
      "Albania                             3.71  \n",
      "Austria                             5.89  \n",
      "Belgium                             4.04  \n",
      "Bosnia and Herzegovina              7.65  \n",
      "Bulgaria                            4.37  \n"
     ]
    }
   ],
   "source": [
    "# Calculate growth from 1952 to 2007, round to 2 decimal places\n",
    "americas_df['gdpPercap_growth'] = (americas_df['gdpPercap_2007'] / americas_df['gdpPercap_1952']).round(2)\n",
    "europe_df['gdpPercap_growth'] = (europe_df['gdpPercap_2007'] / europe_df['gdpPercap_1952']).round(2)\n",
    "\n",
    "print(americas_df.head())\n",
    "print(europe_df.head())"
   ]
  },
  {
   "cell_type": "markdown",
   "metadata": {},
   "source": [
    "Use the `gdpPercap_growth` column to idenfity the country in each region that had the largest increase in per capita GDP between 1952 and 2007?"
   ]
  },
  {
   "cell_type": "code",
   "execution_count": 21,
   "metadata": {},
   "outputs": [
    {
     "name": "stdout",
     "output_type": "stream",
     "text": [
      "The country with the largest increase in per capita GDP in Americas:  Puerto Rico\n",
      "The country with the largest increase in per capita GDP in Europe:  Ireland\n"
     ]
    }
   ],
   "source": [
    "# Identify the country with the largest increase in per capita GDP\n",
    "americas_max_growth_country = americas_df['gdpPercap_growth'].idxmax()\n",
    "europe_max_growth_country = europe_df['gdpPercap_growth'].idxmax()\n",
    "\n",
    "print(\"The country with the largest increase in per capita GDP in Americas: \", americas_max_growth_country)\n",
    "print(\"The country with the largest increase in per capita GDP in Europe: \", europe_max_growth_country)"
   ]
  },
  {
   "cell_type": "markdown",
   "metadata": {},
   "source": [
    "### Q8) Combining DataFrames.\n",
    "\n",
    "Take the top 3 countries in terms of per capita GDP in 2007 from the european and american continents and create a single frame. Name this new dataframe `combined_df`."
   ]
  },
  {
   "cell_type": "code",
   "execution_count": 22,
   "metadata": {},
   "outputs": [
    {
     "name": "stdout",
     "output_type": "stream",
     "text": [
      "               gdpPercap_1952  gdpPercap_1957  gdpPercap_1962  gdpPercap_1967  \\\n",
      "country                                                                         \n",
      "United States    13990.482080    14847.127120    16173.145860    19530.365570   \n",
      "Canada           11367.161120    12489.950060    13462.485550    16076.588030   \n",
      "Puerto Rico       3081.959785     3907.156189     5108.344630     6929.277714   \n",
      "Norway           10095.421720    11653.973040    13450.401510    16361.876470   \n",
      "Ireland           5210.280328     5599.077872     6631.597314     7655.568963   \n",
      "Switzerland      14734.232750    17909.489730    20431.092700    22966.144320   \n",
      "\n",
      "               gdpPercap_1972  gdpPercap_1977  gdpPercap_1982  gdpPercap_1987  \\\n",
      "country                                                                         \n",
      "United States    21806.035940    24072.632130     25009.55914     29884.35041   \n",
      "Canada           18970.570860    22090.883060     22898.79214     26626.51503   \n",
      "Puerto Rico       9123.041742     9770.524921     10330.98915     12281.34191   \n",
      "Norway           18965.055510    23311.349390     26298.63531     31540.97480   \n",
      "Ireland           9530.772896    11150.981130     12618.32141     13872.86652   \n",
      "Switzerland      27195.113040    26982.290520     28397.71512     30281.70459   \n",
      "\n",
      "               gdpPercap_1992  gdpPercap_1997  gdpPercap_2002  gdpPercap_2007  \\\n",
      "country                                                                         \n",
      "United States     32003.93224     35767.43303     39097.09955     42951.65309   \n",
      "Canada            26342.88426     28954.92589     33328.96507     36319.23501   \n",
      "Puerto Rico       14641.58711     16999.43330     18855.60618     19328.70901   \n",
      "Norway            33965.66115     41283.16433     44683.97525     49357.19017   \n",
      "Ireland           17558.81555     24521.94713     34077.04939     40675.99635   \n",
      "Switzerland       31871.53030     32135.32301     34480.95771     37506.41907   \n",
      "\n",
      "               gdpPercap_growth  \n",
      "country                          \n",
      "United States              3.07  \n",
      "Canada                     3.20  \n",
      "Puerto Rico                6.27  \n",
      "Norway                     4.89  \n",
      "Ireland                    7.81  \n",
      "Switzerland                2.55  \n"
     ]
    }
   ],
   "source": [
    "# Sort and select top 3 countries based on 2007 per capita GDP\n",
    "top3_americas = americas_df.sort_values(by='gdpPercap_2007', ascending=False).head(3)\n",
    "top3_europe = europe_df.sort_values(by='gdpPercap_2007', ascending=False).head(3)\n",
    "\n",
    "# Combine the dataframes\n",
    "combined_df = pd.concat([top3_americas, top3_europe])\n",
    "print(combined_df)"
   ]
  },
  {
   "cell_type": "markdown",
   "metadata": {},
   "source": [
    "Now drop the column `gdpPercap_growth` from `combined_df`."
   ]
  },
  {
   "cell_type": "code",
   "execution_count": 23,
   "metadata": {},
   "outputs": [
    {
     "name": "stdout",
     "output_type": "stream",
     "text": [
      "               gdpPercap_1952  gdpPercap_1957  gdpPercap_1962  gdpPercap_1967  \\\n",
      "country                                                                         \n",
      "United States    13990.482080    14847.127120    16173.145860    19530.365570   \n",
      "Canada           11367.161120    12489.950060    13462.485550    16076.588030   \n",
      "Puerto Rico       3081.959785     3907.156189     5108.344630     6929.277714   \n",
      "Norway           10095.421720    11653.973040    13450.401510    16361.876470   \n",
      "Ireland           5210.280328     5599.077872     6631.597314     7655.568963   \n",
      "Switzerland      14734.232750    17909.489730    20431.092700    22966.144320   \n",
      "\n",
      "               gdpPercap_1972  gdpPercap_1977  gdpPercap_1982  gdpPercap_1987  \\\n",
      "country                                                                         \n",
      "United States    21806.035940    24072.632130     25009.55914     29884.35041   \n",
      "Canada           18970.570860    22090.883060     22898.79214     26626.51503   \n",
      "Puerto Rico       9123.041742     9770.524921     10330.98915     12281.34191   \n",
      "Norway           18965.055510    23311.349390     26298.63531     31540.97480   \n",
      "Ireland           9530.772896    11150.981130     12618.32141     13872.86652   \n",
      "Switzerland      27195.113040    26982.290520     28397.71512     30281.70459   \n",
      "\n",
      "               gdpPercap_1992  gdpPercap_1997  gdpPercap_2002  gdpPercap_2007  \n",
      "country                                                                        \n",
      "United States     32003.93224     35767.43303     39097.09955     42951.65309  \n",
      "Canada            26342.88426     28954.92589     33328.96507     36319.23501  \n",
      "Puerto Rico       14641.58711     16999.43330     18855.60618     19328.70901  \n",
      "Norway            33965.66115     41283.16433     44683.97525     49357.19017  \n",
      "Ireland           17558.81555     24521.94713     34077.04939     40675.99635  \n",
      "Switzerland       31871.53030     32135.32301     34480.95771     37506.41907  \n"
     ]
    }
   ],
   "source": [
    "# Drop the 'gdpPercap_growth' column\n",
    "combined_df = combined_df.drop(columns='gdpPercap_growth')\n",
    "print(combined_df)"
   ]
  },
  {
   "cell_type": "markdown",
   "metadata": {},
   "source": [
    "### Q9) Rotation\n",
    "Now rotate the data using the `transpose` method. The result will be columns contain the values for each country and each row represents a year. Name this dataframe `rotated_df`. \n",
    "\n",
    "This is an *example* of what head would output on this new dataframe:\n",
    "<table border=\"1\" class=\"dataframe\">  <thead>    <tr style=\"text-align: right;\">      <th>country</th>      <th>United States</th>      <th>Canada</th>      <th>Puerto Rico</th>      <th>Norway</th>      <th>Ireland</th>      <th>Switzerland</th>    </tr>  </thead>  <tbody>    <tr>      <th>gdpPercap_1952</th>      <td>1000.00</td>      <td>1000.00</td>      <td>1000.00</td>      <td>1000.00</td>      <td>1000.00</td>      <td>1000.00</td>    </tr>    <tr>      <th>gdpPercap_1957</th>      <td>1000.00</td>      <td>1000.00</td>      <td>1000.00</td>      <td>1000.00</td>      <td>1000.00</td>      <td>1000.00</td>    </tr>    <tr>      <th>gdpPercap_1962</th>      <td>1000.00</td>      <td>1000.00</td>      <td>1000.00</td>      <td>1000.00</td>      <td>1000.00</td>      <td>1000.00</td>    </tr>    <tr>      <th>gdpPercap_1967</th>      <td>1000.00</td>      <td>1000.00</td>      <td>1000.00</td>      <td>1000.00</td>      <td>1000.00</td>      <td>1000.00</td>    </tr>    <tr>      <th>gdpPercap_1972</th>      <td>1000.00</td>      <td>1000.00</td>      <td>1000.00</td>      <td>1000.00</td>      <td>1000.00</td>      <td>1000.00</td>    </tr>  </tbody></table>\n"
   ]
  },
  {
   "cell_type": "code",
   "execution_count": 24,
   "metadata": {},
   "outputs": [
    {
     "name": "stdout",
     "output_type": "stream",
     "text": [
      "country         United States       Canada  Puerto Rico       Norway  \\\n",
      "gdpPercap_1952    13990.48208  11367.16112  3081.959785  10095.42172   \n",
      "gdpPercap_1957    14847.12712  12489.95006  3907.156189  11653.97304   \n",
      "gdpPercap_1962    16173.14586  13462.48555  5108.344630  13450.40151   \n",
      "gdpPercap_1967    19530.36557  16076.58803  6929.277714  16361.87647   \n",
      "gdpPercap_1972    21806.03594  18970.57086  9123.041742  18965.05551   \n",
      "\n",
      "country             Ireland  Switzerland  \n",
      "gdpPercap_1952  5210.280328  14734.23275  \n",
      "gdpPercap_1957  5599.077872  17909.48973  \n",
      "gdpPercap_1962  6631.597314  20431.09270  \n",
      "gdpPercap_1967  7655.568963  22966.14432  \n",
      "gdpPercap_1972  9530.772896  27195.11304  \n"
     ]
    }
   ],
   "source": [
    "# Rotate the data\n",
    "rotated_df = combined_df.transpose()\n",
    "\n",
    "print(rotated_df.head())"
   ]
  },
  {
   "cell_type": "markdown",
   "metadata": {},
   "source": [
    "### Q10) Plotting\n",
    "Use the Pandas built-in access to pylot in order to create a line plot from the `rotated_df` dataframe."
   ]
  },
  {
   "cell_type": "code",
   "execution_count": 25,
   "metadata": {},
   "outputs": [
    {
     "data": {
      "image/png": "[encoded data removed]",
      "text/plain": [
       "<Figure size 640x480 with 1 Axes>"
      ]
     },
     "metadata": {},
     "output_type": "display_data"
    }
   ],
   "source": [
    "import matplotlib.pyplot as plt\n",
    "\n",
    "# Create a line plot\n",
    "rotated_df.plot(kind='line')\n",
    "\n",
    "# Set the title and labels\n",
    "plt.title('GDP Per Capita Over Time')\n",
    "plt.xlabel('Years')\n",
    "plt.ylabel('GDP Per Capita')\n",
    "\n",
    "# Rotate x-axis labels\n",
    "plt.xticks(rotation=45)\n",
    "\n",
    "# Show the plot\n",
    "plt.show()\n"
   ]
  },
  {
   "cell_type": "markdown",
   "metadata": {},
   "source": [
    "### Q11) Multiple Files\n",
    "\n",
    "There are 5 files within the `gapminder`. Use a loop to create the dataframe `region_df` that contains a row for each region/continent that has a average for each of the gdpPerCap columns. The region/continent needs to be extracted from the filename."
   ]
  },
  {
   "cell_type": "code",
   "execution_count": 26,
   "metadata": {},
   "outputs": [
    {
     "name": "stdout",
     "output_type": "stream",
     "text": [
      "  continent  gdpPercap_1952  gdpPercap_1957  gdpPercap_1962  gdpPercap_1967  \\\n",
      "0    africa     1252.572466     1385.236062     1598.078825     2050.363801   \n",
      "1  americas     4079.062552     4616.043733     4901.541870     5668.253496   \n",
      "2      asia     5195.484004     5787.732940     5729.369625     5971.173374   \n",
      "3    europe     5661.057435     6963.012816     8365.486814    10143.823757   \n",
      "4   oceania    10298.085650    11598.522455    12696.452430    14495.021790   \n",
      "\n",
      "   gdpPercap_1972  gdpPercap_1977  gdpPercap_1982  gdpPercap_1987  \\\n",
      "0     2339.615674     2585.938508     2481.592960     2282.668991   \n",
      "1     6491.334139     7352.007126     7506.737088     7793.400261   \n",
      "2     8187.468699     7791.314020     7434.135157     7608.226508   \n",
      "3    12479.575246    14283.979110    15617.896551    17214.310727   \n",
      "4    16417.333380    17283.957605    18554.709840    20448.040160   \n",
      "\n",
      "   gdpPercap_1992  gdpPercap_1997  gdpPercap_2002  gdpPercap_2007  \n",
      "0     2281.810333     2378.759555     2599.385159     3089.032605  \n",
      "1     8044.934406     8889.300863     9287.677107    11003.031625  \n",
      "2     8639.690248     9834.093295    10174.090397    12473.026870  \n",
      "3    17061.568084    19076.781802    21711.732422    25054.481636  \n",
      "4    20894.045885    24024.175170    26938.778040    29810.188275  \n"
     ]
    },
    {
     "name": "stderr",
     "output_type": "stream",
     "text": [
      "C:\\Users\\sangh\\AppData\\Local\\Temp\\ipykernel_992\\2202825407.py:16: FutureWarning: Dropping of nuisance columns in DataFrame reductions (with 'numeric_only=None') is deprecated; in a future version this will raise TypeError.  Select only valid columns before calling the reduction.\n",
      "  mean_gdp = df.mean(axis=0)\n"
     ]
    }
   ],
   "source": [
    "import glob\n",
    "import os\n",
    "\n",
    "# Create an empty list to store the dataframes\n",
    "dfs = []\n",
    "\n",
    "# Loop over the csv files\n",
    "for filename in glob.glob('gapminder_gdp_*.csv'):\n",
    "    # Read csv file into a dataframe\n",
    "    df = pd.read_csv(filename, index_col='country')\n",
    "    \n",
    "    # Create a new column 'continent' from the filename\n",
    "    continent = os.path.splitext(os.path.basename(filename))[0].split('_')[-1]\n",
    "    \n",
    "    # Calculate the mean along the columns (axis=0)\n",
    "    mean_gdp = df.mean(axis=0)\n",
    "    \n",
    "    # Convert the Series to a DataFrame and transpose\n",
    "    mean_gdp_df = pd.DataFrame(mean_gdp).T\n",
    "    \n",
    "    # Add the 'continent' column\n",
    "    mean_gdp_df.insert(0, 'continent', continent)\n",
    "    \n",
    "    # Append to the list\n",
    "    dfs.append(mean_gdp_df)\n",
    "\n",
    "# Concatenate all dataframes in the list\n",
    "region_df = pd.concat(dfs, ignore_index=True)\n",
    "\n",
    "print(region_df)\n"
   ]
  },
  {
   "cell_type": "markdown",
   "metadata": {},
   "source": [
    "### Q12) Plotting regional averages.\n",
    "Create a line plot that showes how the average GDP per capita for each region has changed over time."
   ]
  },
  {
   "cell_type": "code",
   "execution_count": 27,
   "metadata": {},
   "outputs": [
    {
     "data": {
      "image/png": "[encoded data removed]",
      "text/plain": [
       "<Figure size 1000x600 with 1 Axes>"
      ]
     },
     "metadata": {},
     "output_type": "display_data"
    }
   ],
   "source": [
    "import matplotlib.pyplot as plt\n",
    "\n",
    "# Reset index\n",
    "region_df_reset = region_df.reset_index()\n",
    "\n",
    "# Melt dataframe\n",
    "melt_df = pd.melt(region_df_reset, id_vars=['continent', 'index'], var_name='year', value_name='gdpPercap')\n",
    "\n",
    "# Convert 'year' to int for better visualization\n",
    "melt_df['year'] = melt_df['year'].str.replace('gdpPercap_', '').astype(int)\n",
    "\n",
    "# Plotting\n",
    "plt.figure(figsize=(10, 6))\n",
    "for continent in melt_df['continent'].unique():\n",
    "    data = melt_df[melt_df['continent'] == continent]\n",
    "    plt.plot(data['year'], data['gdpPercap'], label=continent)\n",
    "\n",
    "plt.legend()\n",
    "plt.xlabel('Year')\n",
    "plt.ylabel('Average GDP per Capita')\n",
    "plt.title('Average GDP per Capita Over Time by Region')\n",
    "plt.show()"
   ]
  },
  {
   "cell_type": "markdown",
   "metadata": {},
   "source": [
    "## Section 2: Capital Bikeshare Rides and Weather\n",
    "\n",
    "Capital Bikeshare Data: In the `captialbikeshare` folder. https://capitalbikeshare.com/system-data  \n",
    "\n",
    "Data Description:\n",
    "- Duration – Duration of trip\n",
    "- Start Date – Includes start date and time\n",
    "- End Date – Includes end date and time\n",
    "- Start Station – Includes starting station name and number\n",
    "- End Station – Includes ending station name and number\n",
    "- Bike Number – Includes ID number of bike used for the trip\n",
    "- Member Type – Indicates whether user was a \"registered\" member (Annual Member, 30-Day Member or Day Key Member) or a \"casual\" rider (Single Trip, 24-Hour Pass, 3-Day Pass)\n",
    "\n",
    "\n",
    "Weather Data: `arboretum_weather_2022.csv` (Climate Data Online: https://www.ncei.noaa.gov/cdo-web/) \n",
    " \n",
    "Data Description:  \n",
    "- DAPR - Number of days included in the multiday precipitation total (MDPR)\n",
    "- SNOW - Snowfall\n",
    "- WT11 - High or damaging winds\n",
    "- WT01 - Fog, ice fog, or freezing fog (may include heavy fog)\n",
    "- TMAX - Maximum temperature\n",
    "- WESD - Water equivalent of snow on the ground\n",
    "- TMIN - Minimum temperature\n",
    "- PRCP - Precipitation\n",
    "- TOBS - Temperature at the time of observation\n",
    "- MDPR - Multiday precipitation total (use with DAPR and DWPR, if available)\n",
    "- SNWD - Snow depth\n",
    "\n",
    "\n",
    "### Goal of Analysis\n",
    "The analytical goal of this section is to be able to predict the number of daily rides based on the weather."
   ]
  },
  {
   "cell_type": "markdown",
   "metadata": {},
   "source": [
    "### Q13) Import the Capital Bikeshare Data\n",
    "Inside the `data/capitalbikeshare/` folder there are 3 data files. Import them into a single dataframe named `bikeshare_df`. Make sure that you use **relative** paths and that you use a loop to import the files. You should not have to hard code any file names."
   ]
  },
  {
   "cell_type": "code",
   "execution_count": 40,
   "metadata": {},
   "outputs": [],
   "source": [
    "# Import necessary libraries\n",
    "import pandas as pd\n",
    "import glob\n",
    "\n",
    "# Set the folder in csv file\n",
    "path = './capitalbikeshare/'\n",
    "\n",
    "# Find the files in capitalbikeshare folder\n",
    "all_files = glob.glob(path + \"*.csv\")\n",
    "\n",
    "# Read each file and add it to the list.\n",
    "dataframes = []\n",
    "\n",
    "for filename in all_files:\n",
    "    df = pd.read_csv(filename, index_col=None, header=0)\n",
    "    dataframes.append(df)\n",
    "\n",
    "# Merge all dataframes into one.\n",
    "bikeshare_df = pd.concat(dataframes, axis=0, ignore_index=True)\n"
   ]
  },
  {
   "cell_type": "markdown",
   "metadata": {},
   "source": [
    "### Q14) Ensure that the `bikeshare_df` dataframe is ready for analysis.\n",
    "Verify that your data imported correctly and \"clean\" the data as needed."
   ]
  },
  {
   "cell_type": "code",
   "execution_count": 41,
   "metadata": {},
   "outputs": [
    {
     "name": "stdout",
     "output_type": "stream",
     "text": [
      "Missing values per column:\n",
      "ride_id                   0\n",
      "rideable_type             0\n",
      "started_at                0\n",
      "ended_at                  0\n",
      "start_station_name    44476\n",
      "start_station_id      44476\n",
      "end_station_name      51075\n",
      "end_station_id        51075\n",
      "start_lat                 0\n",
      "start_lng                 0\n",
      "end_lat                2381\n",
      "end_lng                2381\n",
      "member_casual             0\n",
      "dtype: int64\n",
      "\n",
      "Data types of each column:\n",
      "ride_id                object\n",
      "rideable_type          object\n",
      "started_at             object\n",
      "ended_at               object\n",
      "start_station_name     object\n",
      "start_station_id      float64\n",
      "end_station_name       object\n",
      "end_station_id        float64\n",
      "start_lat             float64\n",
      "start_lng             float64\n",
      "end_lat               float64\n",
      "end_lng               float64\n",
      "member_casual          object\n",
      "dtype: object\n",
      "\n",
      "Summary statistics for numerical columns:\n",
      "       start_station_id  end_station_id     start_lat     start_lng  \\\n",
      "count      1.116520e+06    1.109921e+06  1.160996e+06  1.160996e+06   \n",
      "mean       3.136916e+04    3.137073e+04  3.890155e+01 -7.703201e+01   \n",
      "std        2.573029e+02    2.559652e+02  2.739296e-02  3.329109e-02   \n",
      "min        3.100000e+04    3.100000e+04  3.877000e+01 -7.736842e+01   \n",
      "25%        3.121300e+04    3.121500e+04  3.888940e+01 -7.704478e+01   \n",
      "50%        3.127500e+04    3.127400e+04  3.890194e+01 -7.703188e+01   \n",
      "75%        3.160600e+04    3.160800e+04  3.891265e+01 -7.701381e+01   \n",
      "max        3.290100e+04    3.290100e+04  3.912583e+01 -7.682554e+01   \n",
      "\n",
      "            end_lat       end_lng  \n",
      "count  1.158615e+06  1.158615e+06  \n",
      "mean   3.890048e+01 -7.703168e+01  \n",
      "std    2.706545e-02  3.310994e-02  \n",
      "min    3.871000e+01 -7.736842e+01  \n",
      "25%    3.888877e+01 -7.704478e+01  \n",
      "50%    3.890088e+01 -7.703174e+01  \n",
      "75%    3.891099e+01 -7.701377e+01  \n",
      "max    3.913000e+01 -7.682000e+01  \n",
      "\n",
      "Summary statistics for object columns:\n",
      "                 ride_id rideable_type start_station_name  end_station_name  \\\n",
      "count            1160996       1160996            1116520           1109921   \n",
      "unique           1160996             3                700               699   \n",
      "top     7E4A3A88DA791628  classic_bike   Lincoln Memorial  Lincoln Memorial   \n",
      "freq                   1        908726              12920             12882   \n",
      "\n",
      "       member_casual  \n",
      "count        1160996  \n",
      "unique             2  \n",
      "top           member  \n",
      "freq          628410  \n"
     ]
    }
   ],
   "source": [
    "# Import necessary libraries\n",
    "import numpy as np\n",
    "\n",
    "# Check for missing values\n",
    "print(\"Missing values per column:\")\n",
    "print(bikeshare_df.isnull().sum())\n",
    "\n",
    "# Check the data types\n",
    "print(\"\\nData types of each column:\")\n",
    "print(bikeshare_df.dtypes)\n",
    "\n",
    "# Convert 'started_at' and 'ended_at' to datetime objects\n",
    "bikeshare_df['started_at'] = pd.to_datetime(bikeshare_df['started_at'])\n",
    "bikeshare_df['ended_at'] = pd.to_datetime(bikeshare_df['ended_at'])\n",
    "\n",
    "# Check for outliers or unusual data\n",
    "print(\"\\nSummary statistics for numerical columns:\")\n",
    "print(bikeshare_df.describe(include=[np.number]))\n",
    "\n",
    "print(\"\\nSummary statistics for object columns:\")\n",
    "print(bikeshare_df.describe(include=['O']))\n"
   ]
  },
  {
   "cell_type": "markdown",
   "metadata": {},
   "source": [
    "### Q15) Explain your cleaning steps.\n",
    "Explain the steps that you took to clean your data and why you believe that your data is ready for analysis.\n",
    "\n",
    "**Use the markdown cell below to answer this question.**"
   ]
  },
  {
   "cell_type": "markdown",
   "metadata": {},
   "source": [
    "\n",
    "1. Checked for missing values: I utilized the isnull().sum() function to examine the presence of missing values in the data. It's essential to identify and properly handle missing values because they can influence the results of the analysis.\n",
    "\n",
    "2. Verified data types: I reviewed the data types of each column in the dataframe using the dtypes function. Ensuring that each column has the appropriate data type is crucial for conducting accurate calculations and analysis.\n",
    "\n",
    "3. Converted date columns: Initially, the 'started_at' and 'ended_at' columns were stored as strings, so I converted them into datetime objects using the pd.to_datetime() function. This conversion is necessary for any subsequent date and time operations.\n",
    "\n",
    "4. Checked for outliers and unusual data: I examined the summary statistics for both numeric and object columns using the describe() function. This step assists in identifying any potential outliers or inconsistencies in the data that may require further investigation or handling.\n",
    "\n",
    "By going through these steps, I believe that the bikeshare_df dataframe is now ready for analysis. I have dealt with the missing values, verified the data types, and converted the date columns to datetime objects. Additionally, I identified potential outliers.\n"
   ]
  },
  {
   "cell_type": "markdown",
   "metadata": {},
   "source": [
    "### Q16) Create a new column named `length` that contains the length of each ride."
   ]
  },
  {
   "cell_type": "code",
   "execution_count": 42,
   "metadata": {},
   "outputs": [],
   "source": [
    "# Create a new column 'length' that calculates ride duration by subtracting 'started_at' from 'ended_at'\n",
    "bikeshare_df['length'] = bikeshare_df['ended_at'] - bikeshare_df['started_at']"
   ]
  },
  {
   "cell_type": "code",
   "execution_count": 43,
   "metadata": {
    "scrolled": true
   },
   "outputs": [
    {
     "data": {
      "text/html": [
       "<div>\n",
       "<style scoped>\n",
       "    .dataframe tbody tr th:only-of-type {\n",
       "        vertical-align: middle;\n",
       "    }\n",
       "\n",
       "    .dataframe tbody tr th {\n",
       "        vertical-align: top;\n",
       "    }\n",
       "\n",
       "    .dataframe thead th {\n",
       "        text-align: right;\n",
       "    }\n",
       "</style>\n",
       "<table border=\"1\" class=\"dataframe\">\n",
       "  <thead>\n",
       "    <tr style=\"text-align: right;\">\n",
       "      <th></th>\n",
       "      <th>ride_id</th>\n",
       "      <th>rideable_type</th>\n",
       "      <th>started_at</th>\n",
       "      <th>ended_at</th>\n",
       "      <th>start_station_name</th>\n",
       "      <th>start_station_id</th>\n",
       "      <th>end_station_name</th>\n",
       "      <th>end_station_id</th>\n",
       "      <th>start_lat</th>\n",
       "      <th>start_lng</th>\n",
       "      <th>end_lat</th>\n",
       "      <th>end_lng</th>\n",
       "      <th>member_casual</th>\n",
       "      <th>length</th>\n",
       "    </tr>\n",
       "  </thead>\n",
       "  <tbody>\n",
       "    <tr>\n",
       "      <th>0</th>\n",
       "      <td>7E4A3A88DA791628</td>\n",
       "      <td>classic_bike</td>\n",
       "      <td>2022-06-21 07:12:11</td>\n",
       "      <td>2022-06-21 07:15:20</td>\n",
       "      <td>Long Bridge Aquatic Center</td>\n",
       "      <td>31950.0</td>\n",
       "      <td>Long Bridge Park / Long Bridge Dr &amp; 6th St S</td>\n",
       "      <td>31090.0</td>\n",
       "      <td>38.870561</td>\n",
       "      <td>-77.044095</td>\n",
       "      <td>38.865553</td>\n",
       "      <td>-77.050030</td>\n",
       "      <td>member</td>\n",
       "      <td>0 days 00:03:09</td>\n",
       "    </tr>\n",
       "    <tr>\n",
       "      <th>1</th>\n",
       "      <td>9D05B4C81F3686B4</td>\n",
       "      <td>classic_bike</td>\n",
       "      <td>2022-06-29 15:01:20</td>\n",
       "      <td>2022-06-29 16:07:36</td>\n",
       "      <td>8th &amp; Eye St SE / Barracks Row</td>\n",
       "      <td>31608.0</td>\n",
       "      <td>Jefferson Dr &amp; 14th St SW</td>\n",
       "      <td>31247.0</td>\n",
       "      <td>38.879200</td>\n",
       "      <td>-76.995300</td>\n",
       "      <td>38.888553</td>\n",
       "      <td>-77.032427</td>\n",
       "      <td>member</td>\n",
       "      <td>0 days 01:06:16</td>\n",
       "    </tr>\n",
       "    <tr>\n",
       "      <th>2</th>\n",
       "      <td>0D0280428308DAD8</td>\n",
       "      <td>docked_bike</td>\n",
       "      <td>2022-06-17 20:19:19</td>\n",
       "      <td>2022-06-17 20:42:48</td>\n",
       "      <td>Potomac Ave &amp; Half St SW</td>\n",
       "      <td>31648.0</td>\n",
       "      <td>Eastern Market Metro / Pennsylvania Ave &amp; 8th ...</td>\n",
       "      <td>31613.0</td>\n",
       "      <td>38.869683</td>\n",
       "      <td>-77.010815</td>\n",
       "      <td>38.884095</td>\n",
       "      <td>-76.995234</td>\n",
       "      <td>casual</td>\n",
       "      <td>0 days 00:23:29</td>\n",
       "    </tr>\n",
       "    <tr>\n",
       "      <th>3</th>\n",
       "      <td>76DA5E125917F688</td>\n",
       "      <td>docked_bike</td>\n",
       "      <td>2022-06-24 17:19:25</td>\n",
       "      <td>2022-06-24 18:30:43</td>\n",
       "      <td>Potomac Ave &amp; 35th St S</td>\n",
       "      <td>31052.0</td>\n",
       "      <td>S Clark St &amp; 33rd St</td>\n",
       "      <td>31944.0</td>\n",
       "      <td>38.844015</td>\n",
       "      <td>-77.050537</td>\n",
       "      <td>38.845028</td>\n",
       "      <td>-77.051956</td>\n",
       "      <td>casual</td>\n",
       "      <td>0 days 01:11:18</td>\n",
       "    </tr>\n",
       "    <tr>\n",
       "      <th>4</th>\n",
       "      <td>BFEF6DFC09107A32</td>\n",
       "      <td>classic_bike</td>\n",
       "      <td>2022-06-02 13:01:02</td>\n",
       "      <td>2022-06-02 14:05:56</td>\n",
       "      <td>8th &amp; Eye St SE / Barracks Row</td>\n",
       "      <td>31608.0</td>\n",
       "      <td>Good Hope Rd &amp; MLK Ave SE</td>\n",
       "      <td>31802.0</td>\n",
       "      <td>38.879200</td>\n",
       "      <td>-76.995300</td>\n",
       "      <td>38.867373</td>\n",
       "      <td>-76.988039</td>\n",
       "      <td>casual</td>\n",
       "      <td>0 days 01:04:54</td>\n",
       "    </tr>\n",
       "  </tbody>\n",
       "</table>\n",
       "</div>"
      ],
      "text/plain": [
       "            ride_id rideable_type          started_at            ended_at  \\\n",
       "0  7E4A3A88DA791628  classic_bike 2022-06-21 07:12:11 2022-06-21 07:15:20   \n",
       "1  9D05B4C81F3686B4  classic_bike 2022-06-29 15:01:20 2022-06-29 16:07:36   \n",
       "2  0D0280428308DAD8   docked_bike 2022-06-17 20:19:19 2022-06-17 20:42:48   \n",
       "3  76DA5E125917F688   docked_bike 2022-06-24 17:19:25 2022-06-24 18:30:43   \n",
       "4  BFEF6DFC09107A32  classic_bike 2022-06-02 13:01:02 2022-06-02 14:05:56   \n",
       "\n",
       "               start_station_name  start_station_id  \\\n",
       "0      Long Bridge Aquatic Center           31950.0   \n",
       "1  8th & Eye St SE / Barracks Row           31608.0   \n",
       "2        Potomac Ave & Half St SW           31648.0   \n",
       "3         Potomac Ave & 35th St S           31052.0   \n",
       "4  8th & Eye St SE / Barracks Row           31608.0   \n",
       "\n",
       "                                    end_station_name  end_station_id  \\\n",
       "0       Long Bridge Park / Long Bridge Dr & 6th St S         31090.0   \n",
       "1                          Jefferson Dr & 14th St SW         31247.0   \n",
       "2  Eastern Market Metro / Pennsylvania Ave & 8th ...         31613.0   \n",
       "3                               S Clark St & 33rd St         31944.0   \n",
       "4                          Good Hope Rd & MLK Ave SE         31802.0   \n",
       "\n",
       "   start_lat  start_lng    end_lat    end_lng member_casual          length  \n",
       "0  38.870561 -77.044095  38.865553 -77.050030        member 0 days 00:03:09  \n",
       "1  38.879200 -76.995300  38.888553 -77.032427        member 0 days 01:06:16  \n",
       "2  38.869683 -77.010815  38.884095 -76.995234        casual 0 days 00:23:29  \n",
       "3  38.844015 -77.050537  38.845028 -77.051956        casual 0 days 01:11:18  \n",
       "4  38.879200 -76.995300  38.867373 -76.988039        casual 0 days 01:04:54  "
      ]
     },
     "execution_count": 43,
     "metadata": {},
     "output_type": "execute_result"
    }
   ],
   "source": [
    "bikeshare_df.head()"
   ]
  },
  {
   "cell_type": "markdown",
   "metadata": {},
   "source": [
    "### Q17) Convert the ride_length column to minutes\n",
    "The `length` column is currently a timedelta object. Convert it to minutes. Colunm change the column's name to show that the value is in minutes.\n",
    "  \n",
    "*Hint:* Just like you can access string functions by using `str` on a Series, you can use the `dt` accessor to get the `seconds`. "
   ]
  },
  {
   "cell_type": "code",
   "execution_count": 44,
   "metadata": {
    "scrolled": false
   },
   "outputs": [],
   "source": [
    "# Convert the 'length' column from timedelta to minutes by accessing total seconds and dividing by 60\n",
    "# Store the result in a new column 'ride_length_minutes'\n",
    "bikeshare_df['ride_length_minutes'] = bikeshare_df['length'].dt.total_seconds() / 60\n",
    "\n",
    "# Drop the original 'length' column as it's no longer needed\n",
    "bikeshare_df.drop(columns=['length'], inplace=True)"
   ]
  },
  {
   "cell_type": "code",
   "execution_count": 46,
   "metadata": {},
   "outputs": [],
   "source": [
    "# Round the values in 'ride_length_minutes' to two decimal places for easier interpretation\n",
    "bikeshare_df['ride_length_minutes'] = bikeshare_df['ride_length_minutes'].round(2)"
   ]
  },
  {
   "cell_type": "code",
   "execution_count": 47,
   "metadata": {},
   "outputs": [
    {
     "data": {
      "text/html": [
       "<div>\n",
       "<style scoped>\n",
       "    .dataframe tbody tr th:only-of-type {\n",
       "        vertical-align: middle;\n",
       "    }\n",
       "\n",
       "    .dataframe tbody tr th {\n",
       "        vertical-align: top;\n",
       "    }\n",
       "\n",
       "    .dataframe thead th {\n",
       "        text-align: right;\n",
       "    }\n",
       "</style>\n",
       "<table border=\"1\" class=\"dataframe\">\n",
       "  <thead>\n",
       "    <tr style=\"text-align: right;\">\n",
       "      <th></th>\n",
       "      <th>ride_id</th>\n",
       "      <th>rideable_type</th>\n",
       "      <th>started_at</th>\n",
       "      <th>ended_at</th>\n",
       "      <th>start_station_name</th>\n",
       "      <th>start_station_id</th>\n",
       "      <th>end_station_name</th>\n",
       "      <th>end_station_id</th>\n",
       "      <th>start_lat</th>\n",
       "      <th>start_lng</th>\n",
       "      <th>end_lat</th>\n",
       "      <th>end_lng</th>\n",
       "      <th>member_casual</th>\n",
       "      <th>ride_length_minutes</th>\n",
       "    </tr>\n",
       "  </thead>\n",
       "  <tbody>\n",
       "    <tr>\n",
       "      <th>0</th>\n",
       "      <td>7E4A3A88DA791628</td>\n",
       "      <td>classic_bike</td>\n",
       "      <td>2022-06-21 07:12:11</td>\n",
       "      <td>2022-06-21 07:15:20</td>\n",
       "      <td>Long Bridge Aquatic Center</td>\n",
       "      <td>31950.0</td>\n",
       "      <td>Long Bridge Park / Long Bridge Dr &amp; 6th St S</td>\n",
       "      <td>31090.0</td>\n",
       "      <td>38.870561</td>\n",
       "      <td>-77.044095</td>\n",
       "      <td>38.865553</td>\n",
       "      <td>-77.050030</td>\n",
       "      <td>member</td>\n",
       "      <td>3.15</td>\n",
       "    </tr>\n",
       "    <tr>\n",
       "      <th>1</th>\n",
       "      <td>9D05B4C81F3686B4</td>\n",
       "      <td>classic_bike</td>\n",
       "      <td>2022-06-29 15:01:20</td>\n",
       "      <td>2022-06-29 16:07:36</td>\n",
       "      <td>8th &amp; Eye St SE / Barracks Row</td>\n",
       "      <td>31608.0</td>\n",
       "      <td>Jefferson Dr &amp; 14th St SW</td>\n",
       "      <td>31247.0</td>\n",
       "      <td>38.879200</td>\n",
       "      <td>-76.995300</td>\n",
       "      <td>38.888553</td>\n",
       "      <td>-77.032427</td>\n",
       "      <td>member</td>\n",
       "      <td>66.27</td>\n",
       "    </tr>\n",
       "    <tr>\n",
       "      <th>2</th>\n",
       "      <td>0D0280428308DAD8</td>\n",
       "      <td>docked_bike</td>\n",
       "      <td>2022-06-17 20:19:19</td>\n",
       "      <td>2022-06-17 20:42:48</td>\n",
       "      <td>Potomac Ave &amp; Half St SW</td>\n",
       "      <td>31648.0</td>\n",
       "      <td>Eastern Market Metro / Pennsylvania Ave &amp; 8th ...</td>\n",
       "      <td>31613.0</td>\n",
       "      <td>38.869683</td>\n",
       "      <td>-77.010815</td>\n",
       "      <td>38.884095</td>\n",
       "      <td>-76.995234</td>\n",
       "      <td>casual</td>\n",
       "      <td>23.48</td>\n",
       "    </tr>\n",
       "    <tr>\n",
       "      <th>3</th>\n",
       "      <td>76DA5E125917F688</td>\n",
       "      <td>docked_bike</td>\n",
       "      <td>2022-06-24 17:19:25</td>\n",
       "      <td>2022-06-24 18:30:43</td>\n",
       "      <td>Potomac Ave &amp; 35th St S</td>\n",
       "      <td>31052.0</td>\n",
       "      <td>S Clark St &amp; 33rd St</td>\n",
       "      <td>31944.0</td>\n",
       "      <td>38.844015</td>\n",
       "      <td>-77.050537</td>\n",
       "      <td>38.845028</td>\n",
       "      <td>-77.051956</td>\n",
       "      <td>casual</td>\n",
       "      <td>71.30</td>\n",
       "    </tr>\n",
       "    <tr>\n",
       "      <th>4</th>\n",
       "      <td>BFEF6DFC09107A32</td>\n",
       "      <td>classic_bike</td>\n",
       "      <td>2022-06-02 13:01:02</td>\n",
       "      <td>2022-06-02 14:05:56</td>\n",
       "      <td>8th &amp; Eye St SE / Barracks Row</td>\n",
       "      <td>31608.0</td>\n",
       "      <td>Good Hope Rd &amp; MLK Ave SE</td>\n",
       "      <td>31802.0</td>\n",
       "      <td>38.879200</td>\n",
       "      <td>-76.995300</td>\n",
       "      <td>38.867373</td>\n",
       "      <td>-76.988039</td>\n",
       "      <td>casual</td>\n",
       "      <td>64.90</td>\n",
       "    </tr>\n",
       "  </tbody>\n",
       "</table>\n",
       "</div>"
      ],
      "text/plain": [
       "            ride_id rideable_type          started_at            ended_at  \\\n",
       "0  7E4A3A88DA791628  classic_bike 2022-06-21 07:12:11 2022-06-21 07:15:20   \n",
       "1  9D05B4C81F3686B4  classic_bike 2022-06-29 15:01:20 2022-06-29 16:07:36   \n",
       "2  0D0280428308DAD8   docked_bike 2022-06-17 20:19:19 2022-06-17 20:42:48   \n",
       "3  76DA5E125917F688   docked_bike 2022-06-24 17:19:25 2022-06-24 18:30:43   \n",
       "4  BFEF6DFC09107A32  classic_bike 2022-06-02 13:01:02 2022-06-02 14:05:56   \n",
       "\n",
       "               start_station_name  start_station_id  \\\n",
       "0      Long Bridge Aquatic Center           31950.0   \n",
       "1  8th & Eye St SE / Barracks Row           31608.0   \n",
       "2        Potomac Ave & Half St SW           31648.0   \n",
       "3         Potomac Ave & 35th St S           31052.0   \n",
       "4  8th & Eye St SE / Barracks Row           31608.0   \n",
       "\n",
       "                                    end_station_name  end_station_id  \\\n",
       "0       Long Bridge Park / Long Bridge Dr & 6th St S         31090.0   \n",
       "1                          Jefferson Dr & 14th St SW         31247.0   \n",
       "2  Eastern Market Metro / Pennsylvania Ave & 8th ...         31613.0   \n",
       "3                               S Clark St & 33rd St         31944.0   \n",
       "4                          Good Hope Rd & MLK Ave SE         31802.0   \n",
       "\n",
       "   start_lat  start_lng    end_lat    end_lng member_casual  \\\n",
       "0  38.870561 -77.044095  38.865553 -77.050030        member   \n",
       "1  38.879200 -76.995300  38.888553 -77.032427        member   \n",
       "2  38.869683 -77.010815  38.884095 -76.995234        casual   \n",
       "3  38.844015 -77.050537  38.845028 -77.051956        casual   \n",
       "4  38.879200 -76.995300  38.867373 -76.988039        casual   \n",
       "\n",
       "   ride_length_minutes  \n",
       "0                 3.15  \n",
       "1                66.27  \n",
       "2                23.48  \n",
       "3                71.30  \n",
       "4                64.90  "
      ]
     },
     "execution_count": 47,
     "metadata": {},
     "output_type": "execute_result"
    }
   ],
   "source": [
    "bikeshare_df.head()"
   ]
  },
  {
   "cell_type": "markdown",
   "metadata": {},
   "source": [
    "### Q18) Import and clean the weather data.\n",
    "The weather data is in the file `data/arboretum_weather_2022.csv`. Import this file into a dataframe named `weather_df`. Make sure that you use **relative** paths. You should perform all of the \"cleaning\" required to prepare the data for the next step."
   ]
  },
  {
   "cell_type": "code",
   "execution_count": 53,
   "metadata": {},
   "outputs": [],
   "source": [
    "import pandas as pd\n",
    "\n",
    "# Import the weather data\n",
    "weather_df = pd.read_csv('arboretum_weather_2022.csv')\n",
    "\n",
    "# Convert the 'DATE' column to datetime\n",
    "weather_df['DATE'] = pd.to_datetime(weather_df['DATE'])\n",
    "\n",
    "# Clean the data (remove unnecessary columns, handle missing data, etc.)\n",
    "weather_df = weather_df[['DATE', 'TMAX', 'TMIN', 'PRCP']].dropna()"
   ]
  },
  {
   "cell_type": "code",
   "execution_count": 54,
   "metadata": {},
   "outputs": [
    {
     "name": "stdout",
     "output_type": "stream",
     "text": [
      "        DATE  TMAX  TMIN  PRCP\n",
      "0 2022-01-01  59.0  52.0  0.15\n",
      "1 2022-01-02  64.0  56.0  0.44\n",
      "4 2022-01-07  46.0  21.0  0.18\n",
      "5 2022-01-09  34.0  22.0  0.00\n",
      "6 2022-01-10  44.0  30.0  0.59\n"
     ]
    }
   ],
   "source": [
    "print(weather_df.head())"
   ]
  },
  {
   "cell_type": "markdown",
   "metadata": {},
   "source": [
    "### Q19) Impute the missing weather data.\n",
    "Our preference is always to leave missing values alone, but our analysis requires that we have a value for each day. Identify the 4 methods for estimating and imputing missing values and explain which method you will use and why. Assume that you have performed the appropriate diagnosis and determined that the missing values are missing completely at random (MCAR).\n",
    "\n",
    "We only need the values in the following columns:\n",
    "- TMAX: Maximum temperature\n",
    "- TMIN: Minimum temperature\n",
    "- PRCP: Amount of precipitation (in inches)\n",
    "\n",
    "Explain your answer in the markdown cell below and in the code cell write the code to implement your method."
   ]
  },
  {
   "cell_type": "markdown",
   "metadata": {},
   "source": [
    "1. Mean/Median/Mode imputation: This method replaces the missing values with the mean/median/mode of the data. It's a good option when the data is normally distributed.\n",
    "\n",
    "2. Linear interpolation: This method assumes that the data follows a linear trend and fills the missing values based on this trend.\n",
    "\n",
    "3. Regression imputation: This method uses the other variables in the dataset to predict the missing values.\n",
    "\n",
    "4. Multiple imputation: This method generates multiple imputed datasets, each of which is analyzed separately. The results are then combined to give the final estimate and confidence intervals."
   ]
  },
  {
   "cell_type": "code",
   "execution_count": 58,
   "metadata": {},
   "outputs": [],
   "source": [
    "weather_df['TMAX'].interpolate(method='linear', inplace=True)\n",
    "weather_df['TMIN'].interpolate(method='linear', inplace=True)\n",
    "weather_df['PRCP'].interpolate(method='linear', inplace=True)"
   ]
  },
  {
   "cell_type": "code",
   "execution_count": 59,
   "metadata": {},
   "outputs": [
    {
     "name": "stdout",
     "output_type": "stream",
     "text": [
      "        DATE  TMAX  TMIN  PRCP\n",
      "0 2022-01-01  59.0  52.0  0.15\n",
      "1 2022-01-02  64.0  56.0  0.44\n",
      "4 2022-01-07  46.0  21.0  0.18\n",
      "5 2022-01-09  34.0  22.0  0.00\n",
      "6 2022-01-10  44.0  30.0  0.59\n"
     ]
    }
   ],
   "source": [
    "print(weather_df.head())"
   ]
  },
  {
   "cell_type": "markdown",
   "metadata": {},
   "source": [
    "### Q20) Data Integration and Data Fusion\n",
    "You should have noticed that the two datasets are at different levels of analysis. The rides data is at the level of individual rides while the weather data is at the daily level. In order to merge the two datasets, we will need to get them to be at the same level of analysis. \n",
    "\n",
    "Is this considered data integration or data fusion? Explain your answer.\n",
    "\n",
    "**Use the markdown cell below to answer this question.**"
   ]
  },
  {
   "cell_type": "markdown",
   "metadata": {},
   "source": [
    "This is considered data integration. Data integration is about combining data from different sources, which can be at different granularities or levels of analysis, and bringing them to the same level of analysis. In this case, you are integrating daily weather data with daily ride data."
   ]
  },
  {
   "cell_type": "markdown",
   "metadata": {},
   "source": [
    "### Q21) Prepare the rides_df data to be merged with the weather_df data.\n",
    "Aggregate the rides data so that it shows us the total number of rides per day and the average length of rides. The dataframe should contain the following columns:\n",
    "- date (derived from the `started_at` column)\n",
    "- member_type\n",
    "- number_of_rides\n",
    "- avg_length_min\n",
    "\n",
    "You will likely need to `reset_index` in order to rename the columns. The `date` column must be a datetime and not a string. You should also set the index to be the date."
   ]
  },
  {
   "cell_type": "code",
   "execution_count": null,
   "metadata": {},
   "outputs": [],
   "source": []
  },
  {
   "cell_type": "markdown",
   "metadata": {},
   "source": [
    "### Q22) Merge the weather and rides data.\n",
    "Merge the weather and rides dataframes into a single dataframe named `merged_df`. The resulting dataframe should have only the following columns (you may need to drop or rename columns):\n",
    "- member_type\n",
    "- number_of_rides\n",
    "- avg_length_min\n",
    "- precipitation\n",
    "- max_temp\n",
    "- min_temp"
   ]
  },
  {
   "cell_type": "code",
   "execution_count": null,
   "metadata": {},
   "outputs": [],
   "source": []
  },
  {
   "cell_type": "markdown",
   "metadata": {},
   "source": [
    "### Q23) Compairing populations - Number of Rides\n",
    "Use a visualizaiton technique to compare the number of rides for each type of rider. Be sure to include a title, axis labels, and a legend."
   ]
  },
  {
   "cell_type": "code",
   "execution_count": null,
   "metadata": {},
   "outputs": [],
   "source": []
  },
  {
   "cell_type": "markdown",
   "metadata": {},
   "source": [
    "### Q24) Compairing populations - Average Length\n",
    "Use a visualizaiton technique to compare the average length of rides for each type of rider. Be sure to include a title, axis labels, and a legend."
   ]
  },
  {
   "cell_type": "code",
   "execution_count": null,
   "metadata": {},
   "outputs": [],
   "source": []
  },
  {
   "cell_type": "markdown",
   "metadata": {},
   "source": [
    "### Q25) Is there a relationship between the weather and the number of rides?\n",
    "Out of the variables in the `merged_df` dataframe, perform an analysis that will help us understand if there is a relationship between the weather and the number of rides. Explain your findings. "
   ]
  },
  {
   "cell_type": "code",
   "execution_count": null,
   "metadata": {},
   "outputs": [],
   "source": []
  },
  {
   "cell_type": "markdown",
   "metadata": {},
   "source": []
  }
 ],
 "metadata": {
  "kernelspec": {
   "display_name": "Python 3 (ipykernel)",
   "language": "python",
   "name": "python3"
  },
  "language_info": {
   "codemirror_mode": {
    "name": "ipython",
    "version": 3
   },
   "file_extension": ".py",
   "mimetype": "text/x-python",
   "name": "python",
   "nbconvert_exporter": "python",
   "pygments_lexer": "ipython3",
   "version": "3.9.13"
  }
 },
 "nbformat": 4,
 "nbformat_minor": 2
}
