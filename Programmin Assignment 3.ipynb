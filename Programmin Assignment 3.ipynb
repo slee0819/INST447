{
 "cells": [
  {
   "cell_type": "markdown",
   "id": "4cad7e17",
   "metadata": {},
   "source": [
    "# Program Assignment 3 _ Sang Hwa Lee"
   ]
  },
  {
   "cell_type": "markdown",
   "id": "c9037f47",
   "metadata": {},
   "source": [
    "#### Research Question:\n",
    "Which data science tool is more popular in the data science/statistics community pandas or R?\n",
    "\n",
    "#### Technical Skills:\n",
    "Learn how to use the Stack Exchange API.\n",
    "\n",
    "#### Description: \n",
    "There are a number of popular data science/statistic tools, including R and Python’s pandas. In this assignment you will investigate the relative popularity of each of these tools by examining the number of related questions posted on Stack Exchange Q&As. In particular you’ll use the Stack Exchange API (Links to an external site.) to get the number of questions which have the tag “pandas” and the number of question which have the tag “R” for three Q&A subcommunities: Stack Overflow (stackoverflow), Cross Validated (stats.stackexchange), and Data Science (datascience.stackexchange) (HINT: you’ll want to look at the API documentation related to tags). In addition, to examining the total number of questions across all three sites with the pandas and R tags, also examine how the three sites differ in the relative number of R and pandas tags. Stack Overflow is a general subcommunity, while Cross Validated is more focused on statistics and Data Science is more focused on data science.\n",
    "\n",
    "#### Deliverable:\n",
    "\n",
    "\n",
    "##### Executable Jupyter notebook which presents your final calculations and visualizations. Notebook should include at least the following:\n",
    "\n",
    "1. Citation for the sources of data and explanation of the data.\n",
    "2. Data ingestion using API (without a wrapper!)\n",
    "3. Data wrangling steps with explanation.\n",
    "4. Final calculations and visualizations. Calculations and visualizations should look at total number of questions per tag across all three subcommunities together and the total number of questions per tag for each subcommunity separately.\n",
    "5. Explanation of the results and what they mean in terms of the research question.\n",
    "6. Take-away message, which succinctly makes it, clear what was found and why it matters.\n",
    "7. A note about the limitations of the data or analyses.\n",
    "\n",
    "\n",
    "#### Challenges:\n",
    "\n",
    "How do your results compare to the conclusions drawn using other methods? You’ll need to research articles which discuss the data science tools.\n",
    "What might be a better method?"
   ]
  },
  {
   "cell_type": "markdown",
   "id": "729d2e61",
   "metadata": {},
   "source": [
    "\n",
    "\n",
    "## Data Sources\n",
    "\n",
    "1. **Stack Exchange API**: The [Stack Exchange API](https://api.stackexchange.com/docs) is used to retrieve the number of questions associated with specific tags on different Stack Exchange sites.\n",
    "\n",
    "2. **Stack Overflow**: [Stack Overflow](https://stackoverflow.com/) is a Q&A site for professional and enthusiast programmers. The tag counts for 'Pandas' and 'R' are retrieved from this site.\n",
    "\n",
    "3. **Cross Validated (stats.stackexchange)**: [Cross Validated](https://stats.stackexchange.com/) is a Q&A site for people interested in statistics, machine learning, data analysis, data mining, and data visualization. The tag counts for 'Pandas' and 'R' are retrieved from this site.\n",
    "\n",
    "4. **Data Science (datascience.stackexchange)**: [Data Science Stack Exchange](https://datascience.stackexchange.com/) is a Q&A site for Data science professionals, Machine Learning specialists, and those interested in learning more about the field. The tag counts for 'Pandas' and 'R' are retrieved from this site.\n",
    "\n",
    "5. Wes, M. (2011, January 1). pandas: a Foundational Python Library for Data Analysis and Statistics. https://www.dlr.de/sc/portaldata/15/resources/dokumente/pyhpc2011/submissions/pyhpc2011_submission_9.pdf \n",
    "\n"
   ]
  },
  {
   "cell_type": "code",
   "execution_count": 136,
   "id": "e8f28b0b",
   "metadata": {},
   "outputs": [],
   "source": [
    "# Import library\n",
    "\n",
    "import requests\n",
    "import pandas as pd\n",
    "import matplotlib.pyplot as plt\n",
    "import seaborn as sns"
   ]
  },
  {
   "cell_type": "code",
   "execution_count": 137,
   "id": "ae1b69c4",
   "metadata": {},
   "outputs": [],
   "source": [
    "# Function to get tag information\n",
    "\n",
    "def get_tag_info(tag, site):\n",
    "    url = f\"https://api.stackexchange.com/2.3/tags/{tag}/info\"\n",
    "    params = {\n",
    "        \"site\": site\n",
    "    }\n",
    "\n",
    "    response = requests.get(url, params=params)\n",
    "    data = response.json()\n",
    "\n",
    "    if 'items' in data and len(data['items']) > 0:\n",
    "        return data['items'][0]['count']\n",
    "    else:\n",
    "        return 0\n"
   ]
  },
  {
   "cell_type": "code",
   "execution_count": 138,
   "id": "bc627a14",
   "metadata": {},
   "outputs": [],
   "source": [
    "# Set up three sites and two tags, get tag information for each site and tag\n",
    "\n",
    "sites = [\"stackoverflow\", \"stats.stackexchange\", \"datascience.stackexchange\"]\n",
    "tags = [\"pandas\", \"R\"]\n",
    "\n",
    "tag_counts = {}\n",
    "\n",
    "for site in sites:\n",
    "    for tag in tags:\n",
    "        tag_counts[(site, tag)] = get_tag_info(tag, site)\n"
   ]
  },
  {
   "cell_type": "code",
   "execution_count": 139,
   "id": "3ed00a16",
   "metadata": {},
   "outputs": [],
   "source": [
    "# Convert results to data frames\n",
    "\n",
    "df = pd.DataFrame(tag_counts, index=[\"count\"]).transpose()\n",
    "df.index.names = [\"site\", \"tag\"]\n",
    "df.reset_index(inplace=True)\n"
   ]
  },
  {
   "cell_type": "code",
   "execution_count": 140,
   "id": "90e3ca1c",
   "metadata": {},
   "outputs": [
    {
     "name": "stdout",
     "output_type": "stream",
     "text": [
      "                        site     tag   count\n",
      "0              stackoverflow  pandas  279023\n",
      "1              stackoverflow       R  489405\n",
      "2        stats.stackexchange  pandas     165\n",
      "3        stats.stackexchange       R   28778\n",
      "4  datascience.stackexchange  pandas    1311\n",
      "5  datascience.stackexchange       R    1477\n"
     ]
    }
   ],
   "source": [
    "# Data wrangling step\n",
    "\n",
    "# Calculate'Pandas' and 'R' tags by site.\n",
    "df_pivot = df.pivot(index='site', columns='tag', values='count')\n",
    "\n",
    "# Calculate the total number of questions for 'Pandas' and 'R' tags and sort them in descending order\n",
    "df_total = df.groupby('tag').sum().sort_values('count', ascending=False)\n",
    "\n",
    "# Result\n",
    "print(df)"
   ]
  },
  {
   "cell_type": "code",
   "execution_count": 141,
   "id": "993a769b",
   "metadata": {},
   "outputs": [
    {
     "name": "stdout",
     "output_type": "stream",
     "text": [
      "tag                             R  pandas\n",
      "site                                     \n",
      "datascience.stackexchange    1477    1311\n",
      "stackoverflow              489405  279023\n",
      "stats.stackexchange         28778     165\n"
     ]
    }
   ],
   "source": [
    "print(df_pivot)"
   ]
  },
  {
   "cell_type": "code",
   "execution_count": 142,
   "id": "45be298c",
   "metadata": {},
   "outputs": [
    {
     "name": "stdout",
     "output_type": "stream",
     "text": [
      "                                                     site   count\n",
      "tag                                                              \n",
      "R       stackoverflowstats.stackexchangedatascience.st...  519660\n",
      "pandas  stackoverflowstats.stackexchangedatascience.st...  280499\n"
     ]
    }
   ],
   "source": [
    "print(df_total)"
   ]
  },
  {
   "cell_type": "code",
   "execution_count": 143,
   "id": "549df187",
   "metadata": {
    "scrolled": true
   },
   "outputs": [
    {
     "data": {
      "image/png": "[encoded data removed]",
      "text/plain": [
       "<Figure size 1000x600 with 1 Axes>"
      ]
     },
     "metadata": {},
     "output_type": "display_data"
    }
   ],
   "source": [
    "# Set the style\n",
    "sns.set(style=\"whitegrid\")\n",
    "\n",
    "# Initialize the matplotlib figure\n",
    "f, ax = plt.subplots(figsize=(10, 6))\n",
    "\n",
    "# Plot the total questions for 'R' and 'Pandas'\n",
    "df_pivot[['pandas', 'R']].plot(kind='barh', ax=ax)\n",
    "\n",
    "# Add a legend and informative axis label\n",
    "ax.legend(ncol=2, loc=\"lower right\", frameon=True)\n",
    "ax.set(ylabel=\"Comunities\", xlabel=\"Total questions per tag\")\n",
    "sns.despine(left=True, bottom=True)\n",
    "\n",
    "# Set the limit for x-axis\n",
    "ax.set_xlim(0, 600000)\n",
    "\n",
    "# Show the plot\n",
    "plt.show()"
   ]
  },
  {
   "cell_type": "markdown",
   "id": "f2231b0a",
   "metadata": {},
   "source": [
    "## Explanation of the results\n",
    "\n",
    "According to the visualization results, the 'R' tag was used significantly more often than the 'Pandas' tag on both the Stack Overflow and Cross Validated communities. This demonstrates that R is still recognized as an important tool in data analysis and statistics-related questions. In particular, cross-validation sites focused on statistics showed a higher frequency of use of the 'R' tag compared to pandas. On the other hand, on the Data Science Stack Exchange, which focuses on data science, the 'Pandas' and 'R' tags were used almost equally. This indicates that Pandas, a data analysis library in Python, is competing with R in the data science community.\n",
    "\n",
    "Therefore, as an answer to research questions, \"R\" is a more popular data science tool than \"Pandas\". \n"
   ]
  },
  {
   "cell_type": "markdown",
   "id": "fbb1202b",
   "metadata": {},
   "source": [
    "## Take-away message\n",
    "\n",
    "1. Stack Overflow  \n",
    "\n",
    "    * The number of questions tagged with 'pandas' was <span style= \"color:green\">279,023</span>, while the number of questions tagged with 'R' was <span style= \"color:blue\">489,404</span>, indicating that the frequency of 'R' tag usage was approximately <span style= \"color:red\">1.75</span> times higher than that of 'pandas' tag.\n",
    "\n",
    "2. Cross Validated \n",
    "\n",
    "    * The number of questions tagged with 'pandas' was <span style= \"color:green\">165</span>, while the number of questions tagged with 'R' was <span style= \"color:blue\">28,777</span>, indicating that the frequency of 'R' tag usage was approximately <span style= \"color:red\">174</span> times higher than that of 'pandas' tag.\n",
    "\n",
    "3. Data Science \n",
    "\n",
    "    * The number of questions tagged with 'pandas' was <span style= \"color:green\">1,311</span>, while the number of questions tagged with 'R' was <span style= \"color:blue\">1,477</span>, indicating that the frequency of 'R' tag usage was approximately <span style= \"color:red\">1.13</span> times higher than that of 'pandas' tag."
   ]
  },
  {
   "cell_type": "markdown",
   "id": "146032d7",
   "metadata": {},
   "source": [
    "## Limitation\n",
    "\n",
    "Data Sampling: \n",
    "\n",
    "* The analysis is limited to only three sites, which are Stack Overflow, Cross Validated, and Data Science Stack Exchange. Therefore, the results can only be limited to user behavior on these three sites and not all sites related to data science and statistics.\n",
    "\n",
    "Time Range: \n",
    "\n",
    "* The analysis only considers data from a specific point in time. Therefore, the changes in tag usage patterns over time were not taken into consideration. For instance, analyzing data from the past few years could provide a deeper understanding of how the popularity of Pandas and R has changed over time.\n",
    "\n",
    "Lack of detailed data:\n",
    "\n",
    "* Additional information such as the content of the questions, user level, and the number of answers to the questions were not considered. These factors can provide a more in-depth understanding of the usefulness of tags, beyond their usage frequency.\n",
    "\n"
   ]
  },
  {
   "cell_type": "markdown",
   "id": "5ca7fed5",
   "metadata": {},
   "source": [
    "## Challanges\n",
    "\n",
    "https://www.dlr.de/sc/portaldata/15/resources/dokumente/pyhpc2011/submissions/pyhpc2011_submission_9.pdf\n",
    "\n",
    "* This research article compares pandas and R, with the author claimed that pandas generally outperforms R in terms of performance. For example, the author measured and compared the execution times of various operations such as data loading, sorting, grouping, joining, and pivoting in \"R\" and \"Pandas\". Additionally, the performance differences based on the format and size of data handled by \"R\" and \"Pandas\" were analyzed.\n",
    "\n",
    "* Therefore, I believe that the approach taken in this research article is much better than I attempted."
   ]
  },
  {
   "cell_type": "code",
   "execution_count": null,
   "id": "88a30d1e",
   "metadata": {},
   "outputs": [],
   "source": []
  }
 ],
 "metadata": {
  "kernelspec": {
   "display_name": "Python 3 (ipykernel)",
   "language": "python",
   "name": "python3"
  },
  "language_info": {
   "codemirror_mode": {
    "name": "ipython",
    "version": 3
   },
   "file_extension": ".py",
   "mimetype": "text/x-python",
   "name": "python",
   "nbconvert_exporter": "python",
   "pygments_lexer": "ipython3",
   "version": "3.9.13"
  }
 },
 "nbformat": 4,
 "nbformat_minor": 5
}
